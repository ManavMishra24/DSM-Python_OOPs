{
 "cells": [
  {
   "cell_type": "code",
   "execution_count": 5,
   "id": "dd4a7e9d-a69b-4a9d-b231-a67b8065413d",
   "metadata": {},
   "outputs": [],
   "source": [
    "class test:\n",
    "    \n",
    "    def test_meth(self):\n",
    "        return \"This is my first class\"\n",
    "    "
   ]
  },
  {
   "cell_type": "code",
   "execution_count": 6,
   "id": "107f9e9a-f134-4401-b83e-8b4f6ee2389d",
   "metadata": {},
   "outputs": [],
   "source": [
    "class child_test(test):\n",
    "    pass"
   ]
  },
  {
   "cell_type": "code",
   "execution_count": 7,
   "id": "247e4e5f-5e7c-430d-ae01-bf7c79ef4f98",
   "metadata": {},
   "outputs": [],
   "source": [
    "child_test_obj = child_test()"
   ]
  },
  {
   "cell_type": "code",
   "execution_count": 8,
   "id": "d50a5a35-8960-4d9b-aff0-c8a139371d79",
   "metadata": {},
   "outputs": [
    {
     "data": {
      "text/plain": [
       "'This is my first class'"
      ]
     },
     "execution_count": 8,
     "metadata": {},
     "output_type": "execute_result"
    }
   ],
   "source": [
    "child_test_obj.test_meth()"
   ]
  },
  {
   "cell_type": "code",
   "execution_count": 16,
   "id": "a8182a55-d40a-456e-a3af-a5bd072cdf29",
   "metadata": {},
   "outputs": [],
   "source": [
    "# Above example is a type of Single Level Inheritance/ Inheritance."
   ]
  },
  {
   "cell_type": "code",
   "execution_count": 9,
   "id": "bac12b17-78fd-4d5e-9236-7ffd31c4e801",
   "metadata": {},
   "outputs": [],
   "source": [
    "class class1:\n",
    "    \n",
    "    def test_class1(self):\n",
    "        return \"This is method from class1\""
   ]
  },
  {
   "cell_type": "code",
   "execution_count": 10,
   "id": "73bbbf00-4d51-42b2-818a-415ecc4ed59d",
   "metadata": {},
   "outputs": [],
   "source": [
    "class class2(class1):\n",
    "    def test_class2(self):\n",
    "        return \"This is my method from class 2\""
   ]
  },
  {
   "cell_type": "code",
   "execution_count": 11,
   "id": "86cf80e9-845b-465d-ab2f-0a18b64943e2",
   "metadata": {},
   "outputs": [],
   "source": [
    "class class3(class2):\n",
    "    pass"
   ]
  },
  {
   "cell_type": "code",
   "execution_count": 12,
   "id": "e680dc62-b0b5-41c6-90aa-13454c52bc83",
   "metadata": {},
   "outputs": [],
   "source": [
    "obj_class3 = class3()"
   ]
  },
  {
   "cell_type": "code",
   "execution_count": 13,
   "id": "99a0d881-093c-43c6-9f88-1f426651d24f",
   "metadata": {},
   "outputs": [
    {
     "data": {
      "text/plain": [
       "'This is method from class1'"
      ]
     },
     "execution_count": 13,
     "metadata": {},
     "output_type": "execute_result"
    }
   ],
   "source": [
    "obj_class3.test_class1()"
   ]
  },
  {
   "cell_type": "code",
   "execution_count": 14,
   "id": "7b4ca571-c46e-4187-9972-9f3a19a62002",
   "metadata": {},
   "outputs": [
    {
     "data": {
      "text/plain": [
       "'This is my method from class 2'"
      ]
     },
     "execution_count": 14,
     "metadata": {},
     "output_type": "execute_result"
    }
   ],
   "source": [
    "obj_class3.test_class2()"
   ]
  },
  {
   "cell_type": "code",
   "execution_count": 15,
   "id": "8fddcd37-8991-4096-aabb-3157ce813d03",
   "metadata": {},
   "outputs": [],
   "source": [
    "# This above example is the type of Multi-Level Inheritance."
   ]
  },
  {
   "cell_type": "code",
   "execution_count": 17,
   "id": "a15dd87b-586b-4689-afd8-68ae6e26cd98",
   "metadata": {},
   "outputs": [],
   "source": [
    "class class1:\n",
    "    def test_class1(self):\n",
    "        return \"Class1\""
   ]
  },
  {
   "cell_type": "code",
   "execution_count": 18,
   "id": "ce4b6786-255f-4e6a-9eba-467a1118bf61",
   "metadata": {},
   "outputs": [],
   "source": [
    "class class2:\n",
    "    def test_class2(self):\n",
    "        return \"Class2\""
   ]
  },
  {
   "cell_type": "code",
   "execution_count": 20,
   "id": "c623b8ff-e6e0-4c36-abdc-8e6f07670525",
   "metadata": {},
   "outputs": [],
   "source": [
    "class class3(class1, class2):\n",
    "    pass"
   ]
  },
  {
   "cell_type": "code",
   "execution_count": 21,
   "id": "29517f64-4a20-4115-9dd8-ae231834f89c",
   "metadata": {},
   "outputs": [],
   "source": [
    "obj_class3 = class3()"
   ]
  },
  {
   "cell_type": "code",
   "execution_count": 22,
   "id": "bbc736df-2f0d-40cd-a08e-6cb11700f5e1",
   "metadata": {},
   "outputs": [
    {
     "data": {
      "text/plain": [
       "'Class1'"
      ]
     },
     "execution_count": 22,
     "metadata": {},
     "output_type": "execute_result"
    }
   ],
   "source": [
    "obj_class3.test_class1()"
   ]
  },
  {
   "cell_type": "code",
   "execution_count": 23,
   "id": "7dba6987-f322-4edc-aeca-59f52b878d2c",
   "metadata": {},
   "outputs": [
    {
     "data": {
      "text/plain": [
       "'Class2'"
      ]
     },
     "execution_count": 23,
     "metadata": {},
     "output_type": "execute_result"
    }
   ],
   "source": [
    "obj_class3.test_class2()"
   ]
  }
 ],
 "metadata": {
  "kernelspec": {
   "display_name": "Python 3 (ipykernel)",
   "language": "python",
   "name": "python3"
  },
  "language_info": {
   "codemirror_mode": {
    "name": "ipython",
    "version": 3
   },
   "file_extension": ".py",
   "mimetype": "text/x-python",
   "name": "python",
   "nbconvert_exporter": "python",
   "pygments_lexer": "ipython3",
   "version": "3.10.8"
  }
 },
 "nbformat": 4,
 "nbformat_minor": 5
}

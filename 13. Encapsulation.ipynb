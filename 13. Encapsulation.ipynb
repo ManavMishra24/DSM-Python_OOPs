{
 "cells": [
  {
   "cell_type": "code",
   "execution_count": 3,
   "id": "69afdfcc-361a-496d-971f-c3a366847235",
   "metadata": {},
   "outputs": [],
   "source": [
    "class test:\n",
    "    def __init__(self, a, b):\n",
    "        self.a = a\n",
    "        self.b = b"
   ]
  },
  {
   "cell_type": "code",
   "execution_count": 4,
   "id": "04fb0bb7-317b-49e1-86ba-4eee8c53dbd1",
   "metadata": {},
   "outputs": [],
   "source": [
    "t = test(23, 34)"
   ]
  },
  {
   "cell_type": "code",
   "execution_count": 5,
   "id": "e26da6f7-a11b-4523-aaa0-2e826100bad4",
   "metadata": {},
   "outputs": [],
   "source": [
    "t.a = 2345896"
   ]
  },
  {
   "cell_type": "code",
   "execution_count": 6,
   "id": "53d0b48d-352c-4323-a4d0-1f98644b9fc9",
   "metadata": {},
   "outputs": [
    {
     "data": {
      "text/plain": [
       "2345896"
      ]
     },
     "execution_count": 6,
     "metadata": {},
     "output_type": "execute_result"
    }
   ],
   "source": [
    "t.a"
   ]
  },
  {
   "cell_type": "code",
   "execution_count": 17,
   "id": "a2d25191-0b57-4d6a-aa36-5e46f16490ad",
   "metadata": {},
   "outputs": [],
   "source": [
    "class car:\n",
    "    def __init__(self, year, make, model, speed):\n",
    "        self.__year = year\n",
    "        self.__make = make\n",
    "        self.__model = model\n",
    "        self.__speed = 0\n",
    "        \n",
    "    def set_speed(self, speed):\n",
    "        self.__speed = 0 if speed < 0 else speed\n",
    "    \n",
    "    def get_speed(self):\n",
    "        return self.__speed"
   ]
  },
  {
   "cell_type": "code",
   "execution_count": 19,
   "id": "a49d2b8a-d532-4fc5-8a73-72835f9082b2",
   "metadata": {},
   "outputs": [
    {
     "ename": "TypeError",
     "evalue": "car.__init__() missing 4 required positional arguments: 'year', 'make', 'model', and 'speed'",
     "output_type": "error",
     "traceback": [
      "\u001b[0;31m---------------------------------------------------------------------------\u001b[0m",
      "\u001b[0;31mTypeError\u001b[0m                                 Traceback (most recent call last)",
      "Cell \u001b[0;32mIn[19], line 1\u001b[0m\n\u001b[0;32m----> 1\u001b[0m c \u001b[38;5;241m=\u001b[39m \u001b[43mcar\u001b[49m\u001b[43m(\u001b[49m\u001b[43m)\u001b[49m\n",
      "\u001b[0;31mTypeError\u001b[0m: car.__init__() missing 4 required positional arguments: 'year', 'make', 'model', and 'speed'"
     ]
    }
   ],
   "source": [
    "c = car()"
   ]
  },
  {
   "cell_type": "code",
   "execution_count": 20,
   "id": "4931f2e1-e28a-4198-a921-10e1d7bb1369",
   "metadata": {},
   "outputs": [],
   "source": [
    "c = car(2020, \"Toyota\", \"Fortuner\", 120)"
   ]
  },
  {
   "cell_type": "code",
   "execution_count": 21,
   "id": "6befc2b5-8af6-469f-9f88-257c06556bc0",
   "metadata": {},
   "outputs": [
    {
     "ename": "AttributeError",
     "evalue": "'car' object has no attribute 'year'",
     "output_type": "error",
     "traceback": [
      "\u001b[0;31m---------------------------------------------------------------------------\u001b[0m",
      "\u001b[0;31mAttributeError\u001b[0m                            Traceback (most recent call last)",
      "Cell \u001b[0;32mIn[21], line 1\u001b[0m\n\u001b[0;32m----> 1\u001b[0m \u001b[43mc\u001b[49m\u001b[38;5;241;43m.\u001b[39;49m\u001b[43myear\u001b[49m\n",
      "\u001b[0;31mAttributeError\u001b[0m: 'car' object has no attribute 'year'"
     ]
    }
   ],
   "source": [
    "c.year"
   ]
  },
  {
   "cell_type": "code",
   "execution_count": 22,
   "id": "182ef549-4445-415b-880b-d6da95924d17",
   "metadata": {},
   "outputs": [
    {
     "ename": "AttributeError",
     "evalue": "'car' object has no attribute '__year'",
     "output_type": "error",
     "traceback": [
      "\u001b[0;31m---------------------------------------------------------------------------\u001b[0m",
      "\u001b[0;31mAttributeError\u001b[0m                            Traceback (most recent call last)",
      "Cell \u001b[0;32mIn[22], line 1\u001b[0m\n\u001b[0;32m----> 1\u001b[0m \u001b[43mc\u001b[49m\u001b[38;5;241;43m.\u001b[39;49m\u001b[43m__year\u001b[49m\n",
      "\u001b[0;31mAttributeError\u001b[0m: 'car' object has no attribute '__year'"
     ]
    }
   ],
   "source": [
    "c.__year"
   ]
  },
  {
   "cell_type": "code",
   "execution_count": 23,
   "id": "18a08fdf-7002-4ff3-b999-ada68cecb548",
   "metadata": {},
   "outputs": [
    {
     "ename": "AttributeError",
     "evalue": "'car' object has no attribute 'car__year'",
     "output_type": "error",
     "traceback": [
      "\u001b[0;31m---------------------------------------------------------------------------\u001b[0m",
      "\u001b[0;31mAttributeError\u001b[0m                            Traceback (most recent call last)",
      "Cell \u001b[0;32mIn[23], line 1\u001b[0m\n\u001b[0;32m----> 1\u001b[0m \u001b[43mc\u001b[49m\u001b[38;5;241;43m.\u001b[39;49m\u001b[43mcar__year\u001b[49m\n",
      "\u001b[0;31mAttributeError\u001b[0m: 'car' object has no attribute 'car__year'"
     ]
    }
   ],
   "source": [
    "c.car__year"
   ]
  },
  {
   "cell_type": "code",
   "execution_count": 24,
   "id": "345dbfa8-cc6b-4cc4-88e1-b9e34f9f68ca",
   "metadata": {},
   "outputs": [
    {
     "data": {
      "text/plain": [
       "2020"
      ]
     },
     "execution_count": 24,
     "metadata": {},
     "output_type": "execute_result"
    }
   ],
   "source": [
    "c._car__year"
   ]
  },
  {
   "cell_type": "code",
   "execution_count": 25,
   "id": "7e40a6c6-328c-4cd6-a297-fe59cd01d4a3",
   "metadata": {},
   "outputs": [],
   "source": [
    "c.set_speed(-3256)"
   ]
  },
  {
   "cell_type": "code",
   "execution_count": 26,
   "id": "430515c0-fef7-4b3a-802f-4f97c782f2a2",
   "metadata": {},
   "outputs": [
    {
     "data": {
      "text/plain": [
       "0"
      ]
     },
     "execution_count": 26,
     "metadata": {},
     "output_type": "execute_result"
    }
   ],
   "source": [
    "c.get_speed()"
   ]
  },
  {
   "cell_type": "code",
   "execution_count": 27,
   "id": "6d0eacaa-c401-478b-b834-bc98e5cfb9e6",
   "metadata": {},
   "outputs": [],
   "source": [
    "c.set_speed(234)"
   ]
  },
  {
   "cell_type": "code",
   "execution_count": 28,
   "id": "b7581bcc-f418-41ab-860e-b9c1f3a8c06e",
   "metadata": {},
   "outputs": [
    {
     "data": {
      "text/plain": [
       "234"
      ]
     },
     "execution_count": 28,
     "metadata": {},
     "output_type": "execute_result"
    }
   ],
   "source": [
    "c.get_speed()"
   ]
  },
  {
   "cell_type": "code",
   "execution_count": 29,
   "id": "31439d96-34ff-4fd0-a026-886546104294",
   "metadata": {},
   "outputs": [],
   "source": [
    "class bank_account:\n",
    "    def __init__(self, balance):\n",
    "        self.__balance = balance\n",
    "        \n",
    "    def deposit(self, amount):\n",
    "        self.__balance = self.__balance + amount\n",
    "        \n",
    "    def withdraw(self, amount):\n",
    "        if self.__balance >= amount:\n",
    "            self.__balance = self.__balance - amount\n",
    "            return True\n",
    "        else:\n",
    "            return False\n",
    "        \n",
    "    def get_balance(self):\n",
    "        return self.__balance"
   ]
  },
  {
   "cell_type": "code",
   "execution_count": 31,
   "id": "f13e8f69-78be-472a-9d47-361e877f3cb6",
   "metadata": {},
   "outputs": [],
   "source": [
    "sudh = bank_account(1000)"
   ]
  },
  {
   "cell_type": "code",
   "execution_count": 33,
   "id": "99a7bb32-118a-40a3-830c-c10d730a6426",
   "metadata": {},
   "outputs": [
    {
     "data": {
      "text/plain": [
       "1000"
      ]
     },
     "execution_count": 33,
     "metadata": {},
     "output_type": "execute_result"
    }
   ],
   "source": [
    "sudh.get_balance()"
   ]
  },
  {
   "cell_type": "code",
   "execution_count": 34,
   "id": "bb591a29-585a-4ada-8710-18e466e6b08b",
   "metadata": {},
   "outputs": [],
   "source": [
    "sudh.deposit(5000)"
   ]
  },
  {
   "cell_type": "code",
   "execution_count": 35,
   "id": "4c6c9f5f-e1d8-4774-974a-534b85ee9c59",
   "metadata": {},
   "outputs": [
    {
     "data": {
      "text/plain": [
       "6000"
      ]
     },
     "execution_count": 35,
     "metadata": {},
     "output_type": "execute_result"
    }
   ],
   "source": [
    "sudh.get_balance()"
   ]
  },
  {
   "cell_type": "code",
   "execution_count": 36,
   "id": "d623a20d-592b-4cfe-ae6e-1704d407e3f4",
   "metadata": {},
   "outputs": [
    {
     "data": {
      "text/plain": [
       "True"
      ]
     },
     "execution_count": 36,
     "metadata": {},
     "output_type": "execute_result"
    }
   ],
   "source": [
    "sudh.withdraw(2000)"
   ]
  },
  {
   "cell_type": "code",
   "execution_count": 37,
   "id": "ba2deaa9-27b0-4291-88e2-4dfe0e2c8988",
   "metadata": {},
   "outputs": [
    {
     "data": {
      "text/plain": [
       "4000"
      ]
     },
     "execution_count": 37,
     "metadata": {},
     "output_type": "execute_result"
    }
   ],
   "source": [
    "sudh.get_balance()"
   ]
  }
 ],
 "metadata": {
  "kernelspec": {
   "display_name": "Python 3 (ipykernel)",
   "language": "python",
   "name": "python3"
  },
  "language_info": {
   "codemirror_mode": {
    "name": "ipython",
    "version": 3
   },
   "file_extension": ".py",
   "mimetype": "text/x-python",
   "name": "python",
   "nbconvert_exporter": "python",
   "pygments_lexer": "ipython3",
   "version": "3.10.8"
  }
 },
 "nbformat": 4,
 "nbformat_minor": 5
}

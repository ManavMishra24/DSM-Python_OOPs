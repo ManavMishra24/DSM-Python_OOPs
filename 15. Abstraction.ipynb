{
 "cells": [
  {
   "cell_type": "code",
   "execution_count": 5,
   "id": "3b6a679f-03b9-42ce-8d25-116113ae1201",
   "metadata": {},
   "outputs": [],
   "source": [
    "import abc\n",
    "class pwskills:\n",
    "    @abc.abstractmethod\n",
    "    def students_details(self):\n",
    "        pass\n",
    "    \n",
    "    @abc.abstractmethod\n",
    "    def student_assignment(self):\n",
    "        pass\n",
    "    \n",
    "    @abc.abstractmethod\n",
    "    def student_marks(self):\n",
    "        pass"
   ]
  },
  {
   "cell_type": "code",
   "execution_count": 7,
   "id": "bcdfd79f-495f-457a-aaf3-171a3ad3e69b",
   "metadata": {},
   "outputs": [],
   "source": [
    "class student_details(pwskills):\n",
    "    \n",
    "    def students_details(self):\n",
    "        return \"This is a method for taking students details.\"\n",
    "    \n",
    "    def student_assignment(self):\n",
    "        return \"This is a method for assigning details for a specific student.\""
   ]
  },
  {
   "cell_type": "code",
   "execution_count": 9,
   "id": "f9057fe5-187c-4639-b311-24aac091c21a",
   "metadata": {},
   "outputs": [],
   "source": [
    "class data_science_masters(pwskills):\n",
    "    \n",
    "    def students_details(self):\n",
    "        return \"This will return a student details for Data Science Masters.\"\n",
    "    \n",
    "    def student_assignment(self):\n",
    "        return \"This will give u a student assignment details for DSM.\""
   ]
  },
  {
   "cell_type": "code",
   "execution_count": 10,
   "id": "996fc451-7906-4bff-86ed-a0283e872dcc",
   "metadata": {},
   "outputs": [
    {
     "data": {
      "text/plain": [
       "'This will return a student details for Data Science Masters.'"
      ]
     },
     "execution_count": 10,
     "metadata": {},
     "output_type": "execute_result"
    }
   ],
   "source": [
    "dsm = data_science_masters()\n",
    "dsm.students_details()"
   ]
  },
  {
   "cell_type": "code",
   "execution_count": 11,
   "id": "9f815284-33b4-4830-b285-13e5cb243e4a",
   "metadata": {},
   "outputs": [
    {
     "data": {
      "text/plain": [
       "'This is a method for taking students details.'"
      ]
     },
     "execution_count": 11,
     "metadata": {},
     "output_type": "execute_result"
    }
   ],
   "source": [
    "sd = student_details()\n",
    "sd.students_details()"
   ]
  }
 ],
 "metadata": {
  "kernelspec": {
   "display_name": "Python 3 (ipykernel)",
   "language": "python",
   "name": "python3"
  },
  "language_info": {
   "codemirror_mode": {
    "name": "ipython",
    "version": 3
   },
   "file_extension": ".py",
   "mimetype": "text/x-python",
   "name": "python",
   "nbconvert_exporter": "python",
   "pygments_lexer": "ipython3",
   "version": "3.10.8"
  }
 },
 "nbformat": 4,
 "nbformat_minor": 5
}

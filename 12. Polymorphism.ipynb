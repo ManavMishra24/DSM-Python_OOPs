{
 "cells": [
  {
   "cell_type": "code",
   "execution_count": 1,
   "id": "9148d6bf-aa4d-409a-acf0-623bca345c05",
   "metadata": {},
   "outputs": [],
   "source": [
    "def test(a, b):\n",
    "    return a+b"
   ]
  },
  {
   "cell_type": "code",
   "execution_count": 2,
   "id": "f9180362-cff3-40db-bc16-672677d6d7fa",
   "metadata": {},
   "outputs": [
    {
     "data": {
      "text/plain": [
       "7"
      ]
     },
     "execution_count": 2,
     "metadata": {},
     "output_type": "execute_result"
    }
   ],
   "source": [
    "test(3,4)"
   ]
  },
  {
   "cell_type": "code",
   "execution_count": 3,
   "id": "957dc164-680f-4ba3-8866-28dc02d442d5",
   "metadata": {},
   "outputs": [
    {
     "data": {
      "text/plain": [
       "'sudh kumar '"
      ]
     },
     "execution_count": 3,
     "metadata": {},
     "output_type": "execute_result"
    }
   ],
   "source": [
    "test(\"sudh \", \"kumar \")"
   ]
  },
  {
   "cell_type": "code",
   "execution_count": 4,
   "id": "0997d3ed-084b-4431-a7d3-11bfbefc3b6f",
   "metadata": {},
   "outputs": [
    {
     "data": {
      "text/plain": [
       "[3, 4, 5, 6, 45, 7, 67]"
      ]
     },
     "execution_count": 4,
     "metadata": {},
     "output_type": "execute_result"
    }
   ],
   "source": [
    "test([3,4,5,6], [45,7,67])"
   ]
  },
  {
   "cell_type": "code",
   "execution_count": 5,
   "id": "f426e8a1-55ea-4adf-843d-eb1227c6f5c7",
   "metadata": {},
   "outputs": [],
   "source": [
    "class data_science:\n",
    "    def syllabus(self):\n",
    "        print(\"This is my Syllabus for Data Science.\")"
   ]
  },
  {
   "cell_type": "code",
   "execution_count": 6,
   "id": "763e3cab-ab9c-42bc-aef6-67c9ea7ff0b0",
   "metadata": {},
   "outputs": [],
   "source": [
    "class web_dev:\n",
    "    def syllabus(self):\n",
    "        print(\"This is my Syllabus for Web Development.\")"
   ]
  },
  {
   "cell_type": "code",
   "execution_count": 7,
   "id": "43b7be70-6c50-4d73-8484-9e5c056453d3",
   "metadata": {},
   "outputs": [],
   "source": [
    "# External Function"
   ]
  },
  {
   "cell_type": "code",
   "execution_count": 8,
   "id": "2b8439ee-2af2-4f73-97da-422fa35af60c",
   "metadata": {},
   "outputs": [],
   "source": [
    "def class_parcer(class_obj):\n",
    "    for i in class_obj:\n",
    "        i.syllabus()"
   ]
  },
  {
   "cell_type": "code",
   "execution_count": 9,
   "id": "38716321-7d9a-404a-b2c5-13f302cf9d9a",
   "metadata": {},
   "outputs": [],
   "source": [
    "data_science = data_science()"
   ]
  },
  {
   "cell_type": "code",
   "execution_count": 10,
   "id": "df8b31b9-5244-4981-9526-a8d759780508",
   "metadata": {},
   "outputs": [],
   "source": [
    "web_dev = web_dev()"
   ]
  },
  {
   "cell_type": "code",
   "execution_count": 11,
   "id": "b166b2eb-2002-4e8d-a624-3770ffcf4466",
   "metadata": {},
   "outputs": [],
   "source": [
    "class_obj = [data_science, web_dev]"
   ]
  },
  {
   "cell_type": "code",
   "execution_count": 12,
   "id": "ea7eb533-fac3-4ca8-a9ec-52e30295c213",
   "metadata": {},
   "outputs": [
    {
     "name": "stdout",
     "output_type": "stream",
     "text": [
      "This is my Syllabus for Data Science.\n",
      "This is my Syllabus for Web Development.\n"
     ]
    }
   ],
   "source": [
    "class_parcer(class_obj)"
   ]
  }
 ],
 "metadata": {
  "kernelspec": {
   "display_name": "Python 3 (ipykernel)",
   "language": "python",
   "name": "python3"
  },
  "language_info": {
   "codemirror_mode": {
    "name": "ipython",
    "version": 3
   },
   "file_extension": ".py",
   "mimetype": "text/x-python",
   "name": "python",
   "nbconvert_exporter": "python",
   "pygments_lexer": "ipython3",
   "version": "3.10.8"
  }
 },
 "nbformat": 4,
 "nbformat_minor": 5
}

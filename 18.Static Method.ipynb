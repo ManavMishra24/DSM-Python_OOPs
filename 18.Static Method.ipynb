{
 "cells": [
  {
   "cell_type": "markdown",
   "id": "01a18ceb-0b54-459e-a820-ba2c5e4172ad",
   "metadata": {},
   "source": [
    "STATIC METHOD"
   ]
  },
  {
   "cell_type": "code",
   "execution_count": 1,
   "id": "e370eaad-f06d-4a05-bb65-1308b3065e5e",
   "metadata": {},
   "outputs": [],
   "source": [
    "class pwskills:\n",
    "    def student_details(self, name, mail_id, number):\n",
    "        print(name, mail_id, number)"
   ]
  },
  {
   "cell_type": "code",
   "execution_count": 2,
   "id": "081b10f6-9454-4f91-8679-d590f3c50743",
   "metadata": {},
   "outputs": [],
   "source": [
    "pw = pwskills()"
   ]
  },
  {
   "cell_type": "code",
   "execution_count": 3,
   "id": "92c315a4-41a4-4dad-b56c-cdc2cde7e8ad",
   "metadata": {},
   "outputs": [
    {
     "name": "stdout",
     "output_type": "stream",
     "text": [
      "sudh sudh@gmail.com 8984646556\n"
     ]
    }
   ],
   "source": [
    "pw.student_details(\"sudh\", \"sudh@gmail.com\", 8984646556)"
   ]
  },
  {
   "cell_type": "code",
   "execution_count": 11,
   "id": "4dfd2f17-b86a-40f0-8a66-80fde3d20cc9",
   "metadata": {},
   "outputs": [],
   "source": [
    "class pwskills1:\n",
    "    def student_details(self, name, mail_id, number):\n",
    "        print(name, mail_id, number)\n",
    "        \n",
    "    @staticmethod\n",
    "    def mentor_class(list_mentor):\n",
    "        print(list_mentor)\n",
    "        \n",
    "    def mentor(self, mentor_list):\n",
    "        print(mentor_list)"
   ]
  },
  {
   "cell_type": "code",
   "execution_count": 6,
   "id": "011bb394-4b8d-43b9-84c6-7d7e2378abf0",
   "metadata": {},
   "outputs": [
    {
     "name": "stdout",
     "output_type": "stream",
     "text": [
      "['sudh', 'krish']\n"
     ]
    }
   ],
   "source": [
    "pwskills1.mentor_class([\"sudh\", \"krish\"])"
   ]
  },
  {
   "cell_type": "code",
   "execution_count": 13,
   "id": "0ff6842f-1373-4889-9db4-3d28c01c808a",
   "metadata": {},
   "outputs": [],
   "source": [
    "stu1 = pwskills1()"
   ]
  },
  {
   "cell_type": "code",
   "execution_count": 8,
   "id": "5886fdfe-6dc6-4712-8f82-7eeb6a8af2f8",
   "metadata": {},
   "outputs": [],
   "source": [
    "stu2 = pwskills1()"
   ]
  },
  {
   "cell_type": "code",
   "execution_count": 10,
   "id": "fe990626-26b2-401c-8354-b592a5d1c019",
   "metadata": {},
   "outputs": [],
   "source": [
    "stu3 = pwskills1()"
   ]
  },
  {
   "cell_type": "code",
   "execution_count": 14,
   "id": "715554a7-7976-4edd-9bde-f183d5d1a1fa",
   "metadata": {},
   "outputs": [
    {
     "name": "stdout",
     "output_type": "stream",
     "text": [
      "['sudh', 'krish']\n"
     ]
    }
   ],
   "source": [
    "stu1.mentor([\"sudh\", \"krish\"])"
   ]
  },
  {
   "cell_type": "code",
   "execution_count": 22,
   "id": "75c7d4e4-c788-4f9f-919b-f6ea38c1076a",
   "metadata": {},
   "outputs": [],
   "source": [
    "class pwskills2:\n",
    "    \n",
    "    def student_details(self, name, mail_id, number):\n",
    "        print(name, mail_id, number)\n",
    "        \n",
    "    @staticmethod\n",
    "    def mentor_mail_id(mail_id_mentor):\n",
    "        print(mail_id_mentor)\n",
    "        \n",
    "    @staticmethod\n",
    "    def mentor_class(list_mentor):\n",
    "        pwskills2.mentor_mail_id([\"sudh@gmail.com\", \"krish@gmail.com\"])\n",
    "        print(list_mentor)\n",
    "        \n",
    "    @classmethod\n",
    "    def class_name(cls):\n",
    "        cls.mentor_class([\"sudh\", \"krish\"])\n",
    "        \n",
    "    def mentor(self, mentor_list):\n",
    "        print(mentor_list)\n",
    "        self.mentor_class([\"krish\", \"sudh\"])"
   ]
  },
  {
   "cell_type": "code",
   "execution_count": 19,
   "id": "7a91d89b-9a32-4578-a80f-86e1fbb932c4",
   "metadata": {},
   "outputs": [
    {
     "name": "stdout",
     "output_type": "stream",
     "text": [
      "['sudh', 'krish']\n"
     ]
    }
   ],
   "source": [
    "pwskills2.class_name()"
   ]
  },
  {
   "cell_type": "code",
   "execution_count": 21,
   "id": "70eb5d31-df76-40ce-a4fc-9b2ad206fd39",
   "metadata": {},
   "outputs": [
    {
     "name": "stdout",
     "output_type": "stream",
     "text": [
      "['sudh@gmail.com', 'krish@gmail.com']\n",
      "['sudh', 'krish']\n"
     ]
    }
   ],
   "source": [
    "pwskills2.mentor_class([\"sudh\", \"krish\"])"
   ]
  },
  {
   "cell_type": "code",
   "execution_count": 23,
   "id": "8b79906d-d659-418a-a6fc-f46e2773e23e",
   "metadata": {},
   "outputs": [],
   "source": [
    "pw = pwskills2()"
   ]
  },
  {
   "cell_type": "code",
   "execution_count": 24,
   "id": "8670e0af-ce34-4ee8-a5bf-47f8fd58ea46",
   "metadata": {},
   "outputs": [
    {
     "ename": "TypeError",
     "evalue": "pwskills2.mentor() missing 1 required positional argument: 'mentor_list'",
     "output_type": "error",
     "traceback": [
      "\u001b[0;31m---------------------------------------------------------------------------\u001b[0m",
      "\u001b[0;31mTypeError\u001b[0m                                 Traceback (most recent call last)",
      "Cell \u001b[0;32mIn[24], line 1\u001b[0m\n\u001b[0;32m----> 1\u001b[0m \u001b[43mpw\u001b[49m\u001b[38;5;241;43m.\u001b[39;49m\u001b[43mmentor\u001b[49m\u001b[43m(\u001b[49m\u001b[43m)\u001b[49m\n",
      "\u001b[0;31mTypeError\u001b[0m: pwskills2.mentor() missing 1 required positional argument: 'mentor_list'"
     ]
    }
   ],
   "source": [
    "pw.mentor()"
   ]
  },
  {
   "cell_type": "code",
   "execution_count": 25,
   "id": "dd3c16e2-3008-4430-8e53-ddecb05be748",
   "metadata": {},
   "outputs": [
    {
     "name": "stdout",
     "output_type": "stream",
     "text": [
      "['krish', 'sudh']\n",
      "['sudh@gmail.com', 'krish@gmail.com']\n",
      "['krish', 'sudh']\n"
     ]
    }
   ],
   "source": [
    "pw.mentor([\"krish\", \"sudh\"])"
   ]
  },
  {
   "cell_type": "code",
   "execution_count": null,
   "id": "834cf134-2506-40f7-8797-13d77a0b165d",
   "metadata": {},
   "outputs": [],
   "source": []
  }
 ],
 "metadata": {
  "kernelspec": {
   "display_name": "Python 3 (ipykernel)",
   "language": "python",
   "name": "python3"
  },
  "language_info": {
   "codemirror_mode": {
    "name": "ipython",
    "version": 3
   },
   "file_extension": ".py",
   "mimetype": "text/x-python",
   "name": "python",
   "nbconvert_exporter": "python",
   "pygments_lexer": "ipython3",
   "version": "3.10.8"
  }
 },
 "nbformat": 4,
 "nbformat_minor": 5
}
